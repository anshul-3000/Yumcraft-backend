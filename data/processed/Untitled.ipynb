{
 "cells": [
  {
   "cell_type": "code",
   "execution_count": 2,
   "id": "1e04056b-67bf-421b-9705-f8fa71a08427",
   "metadata": {},
   "outputs": [],
   "source": [
    "import pandas as pd"
   ]
  },
  {
   "cell_type": "code",
   "execution_count": 3,
   "id": "823921e0-ef5a-4534-806c-6db2ce2a7088",
   "metadata": {},
   "outputs": [],
   "source": [
    "data=pd.read_csv(\"D:\\\\Recipe Recommendation - api-main\\\\data\\\\processed\\\\recipes_processed.csv\")"
   ]
  },
  {
   "cell_type": "code",
   "execution_count": 4,
   "id": "0c5b0a8e-7071-4da5-804e-2fbcc29f2f15",
   "metadata": {},
   "outputs": [
    {
     "name": "stdout",
     "output_type": "stream",
     "text": [
      "                                       Title Total Cook Time Prep Time  \\\n",
      "0              Eggless Banana Pancake Recipe         20 mins   05 mins   \n",
      "1              Leftover Rice Pancakes Recipe         25 mins   10 mins   \n",
      "2    Desi Style Masala-Cheese Hot Dog Recipe         20 mins   05 mins   \n",
      "3             Healthy Banana Pancakes Recipe         20 mins   10 mins   \n",
      "4         3 Ingredient Banana Pancake Recipe         10 mins   05 mins   \n",
      "..                                       ...             ...       ...   \n",
      "886                Rose Cardamom Cake Recipe         55 mins   15 mins   \n",
      "887                     Gajar Paratha Recipe         25 mins   15 mins   \n",
      "888                        Badam Milk Recipe         20 mins   10 mins   \n",
      "889              Lamb Shank Roganjosh Recipe         55 mins   10 mins   \n",
      "890                     Zucchini Boat Recipe         55 mins   15 mins   \n",
      "\n",
      "    Cook Time  Recipe Servings Difficulty  \\\n",
      "0     15 mins                2       easy   \n",
      "1     15 mins                2       easy   \n",
      "2     15 mins                2       easy   \n",
      "3     10 mins                5       easy   \n",
      "4     05 mins                2       easy   \n",
      "..        ...              ...        ...   \n",
      "886   40 mins                4       easy   \n",
      "887   10 mins                2       easy   \n",
      "888   10 mins                1       easy   \n",
      "889   45 mins                6       easy   \n",
      "890   40 mins                2       easy   \n",
      "\n",
      "                                           Ingredients  \\\n",
      "0    1 cup  all-purpose flour, 1 tbsp sugar, 1 tsp ...   \n",
      "1    1 cup leftover cooked rice, 1 cup all-purpose ...   \n",
      "2    4 tsp oil, 2  boiled potatoes, 1 tsp butter, 1...   \n",
      "3    2  ripe banana, 2  eggs, 1 tsp vanilla extract...   \n",
      "4               2  bananas, 2  eggs, 2 tbsp oats/flour   \n",
      "..                                                 ...   \n",
      "886  225 gm  salted butter, 225 gm  castor sugar, 4...   \n",
      "887  2 cups  atta, 1 cup  carrots, grated, 1 tsp  g...   \n",
      "888  1 glass  milk, 2 strands  kesar, 10  almonds, ...   \n",
      "889  300 ml  vegetable oil, 3  bay leaves, 4  black...   \n",
      "890  for the bechamel sauce:, 20 g  butter, 20 g  a...   \n",
      "\n",
      "                                            Image Link  \\\n",
      "0    https://i.ndtvimg.com/i/2015-07/pancake-625_62...   \n",
      "1    https://c.ndtvimg.com/2023-07/o4pnb5j8_leftove...   \n",
      "2    https://c.ndtvimg.com/2023-04/ekp1vv4g_hot-dog...   \n",
      "3    https://c.ndtvimg.com/2019-03/dehgn798_oats-pa...   \n",
      "4    https://c.ndtvimg.com/2021-04/tg682u28_pancake...   \n",
      "..                                                 ...   \n",
      "886  https://c.ndtvimg.com/2022-12/5ip7330g_cake_62...   \n",
      "887  https://c.ndtvimg.com/2022-12/evsbdjtg_paratha...   \n",
      "888  https://c.ndtvimg.com/2022-12/teqk715_kesar-do...   \n",
      "889  https://c.ndtvimg.com/2022-12/um1a5vdg_rogan-j...   \n",
      "890  https://c.ndtvimg.com/2022-12/h2usg4c8_zucchin...   \n",
      "\n",
      "                                      Core_Ingredients  \\\n",
      "0                              milk banana sugar flour   \n",
      "1    vanilla sugar buttermilkmilk rice flour soda e...   \n",
      "2    buns chutney taste capsicum mint garlic corian...   \n",
      "3                    eggs vanilla banana cinnamon oats   \n",
      "4                                         eggs bananas   \n",
      "..                                                 ...   \n",
      "886  eggs yogurt sugar castor cardamom milk glaze f...   \n",
      "887  red seed cooking ghee chilli taste carrots kne...   \n",
      "888           glass milk taste jaggery strands almonds   \n",
      "889  taste bay julienne bunch coriander shanks kash...   \n",
      "890  piece bellpepper basil purpose carrot onion ch...   \n",
      "\n",
      "                                     Ingredient_Vector  Accuracy  \n",
      "0    [0, 0, 0, 0, 0, 0, 0, 0, 0, 0, 0, 0, 0, 0, 0, ...        50  \n",
      "1    [0, 0, 0, 0, 0, 0, 0, 0, 0, 0, 0, 0, 0, 0, 0, ...        80  \n",
      "2    [0, 0, 0, 0, 0, 0, 0, 0, 0, 0, 0, 0, 0, 0, 0, ...        83  \n",
      "3    [0, 0, 0, 0, 0, 0, 0, 0, 0, 0, 0, 0, 0, 0, 0, ...       100  \n",
      "4    [0, 0, 0, 0, 0, 0, 0, 0, 0, 0, 0, 0, 0, 0, 0, ...        66  \n",
      "..                                                 ...       ...  \n",
      "886  [0, 0, 0, 0, 0, 0, 0, 0, 0, 0, 0, 0, 0, 0, 0, ...        86  \n",
      "887  [0, 0, 0, 0, 0, 0, 0, 0, 0, 0, 0, 0, 0, 0, 0, ...        93  \n",
      "888  [0, 0, 0, 0, 0, 0, 0, 0, 0, 0, 0, 0, 0, 0, 0, ...       100  \n",
      "889  [0, 0, 0, 0, 0, 0, 0, 0, 0, 0, 0, 0, 0, 0, 0, ...       122  \n",
      "890  [0, 0, 0, 0, 0, 0, 0, 0, 0, 0, 0, 0, 0, 0, 0, ...        82  \n",
      "\n",
      "[891 rows x 11 columns]\n"
     ]
    }
   ],
   "source": [
    "print(data)"
   ]
  },
  {
   "cell_type": "code",
   "execution_count": 8,
   "id": "bb223682-466c-417d-9ab9-23edbbe3ca08",
   "metadata": {},
   "outputs": [],
   "source": [
    "import matplotlib.pyplot as plt"
   ]
  },
  {
   "cell_type": "code",
   "execution_count": 10,
   "id": "e733d3c8-04d4-4a38-8a25-582bc7dada66",
   "metadata": {},
   "outputs": [
    {
     "data": {
      "image/png": "[encoded data removed]",
      "text/plain": [
       "<Figure size 640x480 with 1 Axes>"
      ]
     },
     "metadata": {},
     "output_type": "display_data"
    }
   ],
   "source": [
    "a=[1,2,3,4,5,6]\n",
    "b=[2,4,6,8,10,12]\n",
    "plt.plot(a,b,label='y=2x')\n",
    "plt.title(\"a\")\n",
    "plt.xlabel(\"x\")\n",
    "plt.ylabel(\"y\")\n",
    "plt.show()"
   ]
  },
  {
   "cell_type": "code",
   "execution_count": 11,
   "id": "98acb905-86de-43da-a4ff-4bc32fccc2bb",
   "metadata": {},
   "outputs": [],
   "source": [
    "import seaborn as sns"
   ]
  },
  {
   "cell_type": "code",
   "execution_count": null,
   "id": "84ecc8d6-b08b-4826-abf5-9db8c078c889",
   "metadata": {},
   "outputs": [],
   "source": []
  }
 ],
 "metadata": {
  "kernelspec": {
   "display_name": "Python 3 (ipykernel)",
   "language": "python",
   "name": "python3"
  },
  "language_info": {
   "codemirror_mode": {
    "name": "ipython",
    "version": 3
   },
   "file_extension": ".py",
   "mimetype": "text/x-python",
   "name": "python",
   "nbconvert_exporter": "python",
   "pygments_lexer": "ipython3",
   "version": "3.12.4"
  }
 },
 "nbformat": 4,
 "nbformat_minor": 5
}
